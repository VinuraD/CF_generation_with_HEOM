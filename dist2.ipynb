{
  "nbformat": 4,
  "nbformat_minor": 0,
  "metadata": {
    "colab": {
      "provenance": []
    },
    "kernelspec": {
      "name": "python3",
      "display_name": "Python 3"
    },
    "language_info": {
      "name": "python"
    }
  },
  "cells": [
    {
      "cell_type": "code",
      "execution_count": 1,
      "metadata": {
        "colab": {
          "base_uri": "https://localhost:8080/"
        },
        "id": "zvIe10DyMrj6",
        "outputId": "304f6e2a-c1fe-4ad2-bd70-37d208f872a2"
      },
      "outputs": [
        {
          "output_type": "stream",
          "name": "stdout",
          "text": [
            "Requirement already satisfied: cvxpy in /usr/local/lib/python3.10/dist-packages (1.3.3)\n",
            "Requirement already satisfied: osqp>=0.4.1 in /usr/local/lib/python3.10/dist-packages (from cvxpy) (0.6.2.post8)\n",
            "Requirement already satisfied: ecos>=2 in /usr/local/lib/python3.10/dist-packages (from cvxpy) (2.0.13)\n",
            "Requirement already satisfied: scs>=1.1.6 in /usr/local/lib/python3.10/dist-packages (from cvxpy) (3.2.4.post1)\n",
            "Requirement already satisfied: numpy>=1.15 in /usr/local/lib/python3.10/dist-packages (from cvxpy) (1.25.2)\n",
            "Requirement already satisfied: scipy>=1.1.0 in /usr/local/lib/python3.10/dist-packages (from cvxpy) (1.11.4)\n",
            "Requirement already satisfied: setuptools>65.5.1 in /usr/local/lib/python3.10/dist-packages (from cvxpy) (67.7.2)\n",
            "Requirement already satisfied: qdldl in /usr/local/lib/python3.10/dist-packages (from osqp>=0.4.1->cvxpy) (0.1.7.post0)\n"
          ]
        }
      ],
      "source": [
        "!pip install cvxpy"
      ]
    },
    {
      "cell_type": "code",
      "source": [
        "# !pip install gurobipy"
      ],
      "metadata": {
        "id": "cq0Yi-lRsABa"
      },
      "execution_count": 2,
      "outputs": []
    },
    {
      "cell_type": "code",
      "source": [
        "import cvxpy as cp\n",
        "# import gurobipy as gp\n",
        "import numpy as np\n",
        "from sklearn.datasets import load_breast_cancer\n",
        "from sklearn.model_selection import train_test_split\n",
        "from sklearn.linear_model import LogisticRegression\n",
        "from sklearn.preprocessing import StandardScaler\n",
        "import pandas as pd\n",
        "from sklearn.preprocessing import LabelEncoder, OneHotEncoder, StandardScaler\n",
        "from sklearn.pipeline import Pipeline\n",
        "from sklearn.compose import ColumnTransformer\n",
        "from sklearn.ensemble import RandomForestClassifier"
      ],
      "metadata": {
        "id": "iPATsDLrMxTC"
      },
      "execution_count": 4,
      "outputs": []
    },
    {
      "cell_type": "code",
      "source": [
        "np.random.seed(1)\n",
        "sc=StandardScaler()"
      ],
      "metadata": {
        "id": "__Db9dJbOYuh"
      },
      "execution_count": 5,
      "outputs": []
    },
    {
      "cell_type": "code",
      "source": [
        "df=pd.read_csv('/content/German-Credit.csv')\n",
        "dataset = df.loc[2:,:]\n",
        "# dataset.info()\n",
        "dataset[['Age', 'Duration','Job', 'SavingAccounts','CheckingAccount','CreditAmount']]=dataset[['Age', 'Duration','Job', 'SavingAccounts','CheckingAccount','CreditAmount']].astype('int')\n",
        "dataset[['Class']]=dataset[['Class']].astype('int')"
      ],
      "metadata": {
        "colab": {
          "base_uri": "https://localhost:8080/"
        },
        "id": "2cwx103-1AJH",
        "outputId": "3ef91a5d-5628-402a-deec-3fa615e444c2"
      },
      "execution_count": 7,
      "outputs": [
        {
          "output_type": "stream",
          "name": "stderr",
          "text": [
            "<ipython-input-7-77f73a055637>:4: SettingWithCopyWarning: \n",
            "A value is trying to be set on a copy of a slice from a DataFrame.\n",
            "Try using .loc[row_indexer,col_indexer] = value instead\n",
            "\n",
            "See the caveats in the documentation: https://pandas.pydata.org/pandas-docs/stable/user_guide/indexing.html#returning-a-view-versus-a-copy\n",
            "  dataset[['Age', 'Duration','Job', 'SavingAccounts','CheckingAccount','CreditAmount']]=dataset[['Age', 'Duration','Job', 'SavingAccounts','CheckingAccount','CreditAmount']].astype('int')\n",
            "<ipython-input-7-77f73a055637>:5: SettingWithCopyWarning: \n",
            "A value is trying to be set on a copy of a slice from a DataFrame.\n",
            "Try using .loc[row_indexer,col_indexer] = value instead\n",
            "\n",
            "See the caveats in the documentation: https://pandas.pydata.org/pandas-docs/stable/user_guide/indexing.html#returning-a-view-versus-a-copy\n",
            "  dataset[['Class']]=dataset[['Class']].astype('int')\n"
          ]
        }
      ]
    },
    {
      "cell_type": "code",
      "source": [
        "dataset.info()"
      ],
      "metadata": {
        "colab": {
          "base_uri": "https://localhost:8080/"
        },
        "id": "VEUxpF0S2Q8a",
        "outputId": "7d587863-73fd-416c-dbda-768404bfa359"
      },
      "execution_count": 14,
      "outputs": [
        {
          "output_type": "stream",
          "name": "stdout",
          "text": [
            "<class 'pandas.core.frame.DataFrame'>\n",
            "RangeIndex: 1000 entries, 2 to 1001\n",
            "Data columns (total 10 columns):\n",
            " #   Column           Non-Null Count  Dtype \n",
            "---  ------           --------------  ----- \n",
            " 0   Age              1000 non-null   int64 \n",
            " 1   Sex              1000 non-null   object\n",
            " 2   Job              1000 non-null   int64 \n",
            " 3   Housing          1000 non-null   object\n",
            " 4   SavingAccounts   1000 non-null   int64 \n",
            " 5   CheckingAccount  1000 non-null   int64 \n",
            " 6   CreditAmount     1000 non-null   int64 \n",
            " 7   Duration         1000 non-null   int64 \n",
            " 8   Purpose          1000 non-null   object\n",
            " 9   Class            1000 non-null   int64 \n",
            "dtypes: int64(7), object(3)\n",
            "memory usage: 78.3+ KB\n"
          ]
        }
      ]
    },
    {
      "cell_type": "code",
      "source": [
        "def preprocess(numerical,categorical):\n",
        "    numeric_transformer = Pipeline(steps=[\n",
        "        ('scaler', StandardScaler())])\n",
        "\n",
        "    categorical_transformer = Pipeline(steps=[\n",
        "        ('onehot', OneHotEncoder(handle_unknown='ignore'))])\n",
        "\n",
        "    transformations = ColumnTransformer(\n",
        "        transformers=[\n",
        "            ('num', numeric_transformer, numerical),\n",
        "            ('cat', categorical_transformer, categorical)])\n",
        "    return transformations"
      ],
      "metadata": {
        "id": "DDtVO3Rj1NpD"
      },
      "execution_count": 8,
      "outputs": []
    },
    {
      "cell_type": "code",
      "source": [
        "y = dataset[\"Class\"]\n",
        "# Split data into train and test\n",
        "X = dataset.drop(\"Class\", axis=1)"
      ],
      "metadata": {
        "id": "h54XLBv-Wsp3"
      },
      "execution_count": 9,
      "outputs": []
    },
    {
      "cell_type": "code",
      "source": [
        "x_train,x_test,y_train,y_test=train_test_split(X,y,test_size=0.2,random_state=13)"
      ],
      "metadata": {
        "id": "wjphhlqiYYwn"
      },
      "execution_count": 10,
      "outputs": []
    },
    {
      "cell_type": "code",
      "source": [
        "numerical = ['Age', 'Duration','Job', 'SavingAccounts','CheckingAccount','CreditAmount']\n",
        "categorical = x_train.columns.difference(numerical)\n",
        "proc=preprocess(numerical,categorical)\n",
        "x_train=proc.fit_transform(x_train)\n",
        "x_test=proc.transform(x_test)\n",
        "y_train=y_train.values\n",
        "y_test=y_test.values"
      ],
      "metadata": {
        "id": "ardOwvj21ltw"
      },
      "execution_count": 11,
      "outputs": []
    },
    {
      "cell_type": "code",
      "source": [
        "x_train.shape"
      ],
      "metadata": {
        "colab": {
          "base_uri": "https://localhost:8080/"
        },
        "id": "9UCitZ4b2IAr",
        "outputId": "832299f0-9aab-4fbb-9599-b1e4dec22ddf"
      },
      "execution_count": 12,
      "outputs": [
        {
          "output_type": "execute_result",
          "data": {
            "text/plain": [
              "(800, 19)"
            ]
          },
          "metadata": {},
          "execution_count": 12
        }
      ]
    },
    {
      "cell_type": "code",
      "source": [
        "x_train[0]"
      ],
      "metadata": {
        "colab": {
          "base_uri": "https://localhost:8080/"
        },
        "id": "mJUhtNMu2LDZ",
        "outputId": "6d902cfb-dee2-4758-a324-f85f7240fcf8"
      },
      "execution_count": 13,
      "outputs": [
        {
          "output_type": "execute_result",
          "data": {
            "text/plain": [
              "array([ 0.97905985, -0.24308004,  0.15290124, -0.17465096, -1.03585243,\n",
              "       -0.45817711,  1.        ,  0.        ,  0.        ,  0.        ,\n",
              "        0.        ,  0.        ,  0.        ,  1.        ,  0.        ,\n",
              "        0.        ,  0.        ,  0.        ,  1.        ])"
            ]
          },
          "metadata": {},
          "execution_count": 13
        }
      ]
    },
    {
      "cell_type": "code",
      "source": [
        "clf = LogisticRegression(random_state=0).fit(x_train,y_train)"
      ],
      "metadata": {
        "id": "NNmhEHDSYOk9"
      },
      "execution_count": 15,
      "outputs": []
    },
    {
      "cell_type": "code",
      "source": [
        "def create_obj_var(x,n_ft,ft_type):\n",
        "  vars=[]\n",
        "  obj_var=[0]*n_ft\n",
        "  for i in range(n_ft):\n",
        "    # vars[i]=cp.Variable()\n",
        "    # print(ft_type[i])\n",
        "    if ft_type[i]=='ct':\n",
        "      # print(vars[i])\n",
        "      v=cp.Variable()\n",
        "      obj_var[i]=(cp.norm(v-x[i],1)) #should add denominator\n",
        "    else:\n",
        "      v=cp.Variable(boolean=True)\n",
        "      obj_var[i]=(cp.maximum(1,(v-x[i])/1000))\n",
        "    vars.append(v)\n",
        "  vars=cp.Variable(n_ft)\n",
        "  return vars,obj_var\n",
        "\n"
      ],
      "metadata": {
        "id": "aKA9ymbGXVtW"
      },
      "execution_count": 16,
      "outputs": []
    },
    {
      "cell_type": "code",
      "source": [
        "# vars,_=create_obj_var(x_test[0],30,['ct']*30)\n",
        "# vars"
      ],
      "metadata": {
        "id": "Gycs87ZPyN6g"
      },
      "execution_count": 17,
      "outputs": []
    },
    {
      "cell_type": "code",
      "source": [
        "# p=vars@clf.coef_[0].T\n",
        "# cp.exp(p)/1+cp.exp(p)"
      ],
      "metadata": {
        "id": "TAsQ9QCo0iKI"
      },
      "execution_count": 18,
      "outputs": []
    },
    {
      "cell_type": "code",
      "source": [
        "# np.logaddexp(-1000,x_test[0]@clf.coef_[0]+clf.intercept_[0])"
      ],
      "metadata": {
        "id": "m0yrk0on2rzo"
      },
      "execution_count": 19,
      "outputs": []
    },
    {
      "cell_type": "code",
      "source": [
        "# p=x_test[0]@clf.coef_[0]+clf.intercept_[0]\n",
        "# (np.exp(p)/(1+np.exp(p)))\n",
        "# p"
      ],
      "metadata": {
        "id": "D7w3NZYJ3PFU"
      },
      "execution_count": 20,
      "outputs": []
    },
    {
      "cell_type": "code",
      "source": [
        "def check_pred(cf,clf,target):\n",
        "  cf=cp.hstack(cf)\n",
        "  # p=cp.log_sum_exp(cp.hstack([-1000,cf@clf.coef_[0].T+clf.intercept_[0]]))\n",
        "  p=cp.matmul(cf,clf.coef_[0])+clf.intercept_[0]\n",
        "  # p=cp.exp(p)/(1+cp.exp(p))\n",
        "  p=cp.sum(cp.exp(p - cp.log(target)))\n",
        "  return p\n",
        "\n"
      ],
      "metadata": {
        "id": "xbZT4vMQxITx"
      },
      "execution_count": 21,
      "outputs": []
    },
    {
      "cell_type": "code",
      "source": [
        "# Create constraint.\n",
        "def optimize(vars,obj_var,clf,x,target):\n",
        "  # vars.append(cp.Variable())\n",
        "  # x=x.reshape(1,-1)\n",
        "\n",
        "  # p=cp.sum(vars*np.transpose(np.array(clf.coef_))) +clf.intercept_[0]\n",
        "  # print(p)\n",
        "  # p=1/1+cp.exp(-p)\n",
        "\n",
        "\n",
        "  # cf=[]\n",
        "  # for j in vars:\n",
        "  #   j.value=np.random.randn(1)[0]\n",
        "\n",
        "  # v=cp.Variable(30)\n",
        "  constraints=[check_pred(vars,clf,target)<=1]\n",
        "\n",
        "  # Form objective.\n",
        "  objective = cp.Minimize(cp.sqrt(cp.sum_squares(cp.vstack(obj_var)))) #\n",
        "  # objective = cp.Minimize((cp.sum(cp.vstack(obj_var))))\n",
        "  # objective = cp.Minimize(cp.norm(v-x,1))\n",
        "\n",
        "  # vars.value = numpy.random.randn(30)\n",
        "\n",
        "\n",
        "  # Form and solve problem.\n",
        "  prob = cp.Problem(objective,constraints)\n",
        "  prob.solve(solver=cp.ECOS_BB,qcp=True,verbose=True) #cp.SCS, cp.ECOS_BB\n",
        "  # prob.solve(warm_start=True)\n",
        "  print(\"status: {}\".format(prob.status))\n",
        "  return vars"
      ],
      "metadata": {
        "id": "tQRLS6MFzSpC"
      },
      "execution_count": 22,
      "outputs": []
    },
    {
      "cell_type": "code",
      "source": [
        "cf_all=[]\n",
        "ft_type=['ct']*6+['bb']*13\n",
        "n_ft=19\n",
        "for k in range(len(x_test)):\n",
        "  i=x_test[k]\n",
        "  target=1-y_test[k]\n",
        "  vars,obj_var=create_obj_var(i,n_ft,ft_type)\n",
        "  cf=[]\n",
        "  target=0.001 if target==0 else 0.999\n",
        "  vals=optimize(vars,obj_var,clf,i,target)\n",
        "  for j in vals:\n",
        "    cf.append(j.value)\n",
        "  cf_all.append(cf)"
      ],
      "metadata": {
        "id": "YR0Fe6P8Y-hf"
      },
      "execution_count": null,
      "outputs": []
    },
    {
      "cell_type": "code",
      "source": [
        "np.array(cf_all).shape, y_test.shape"
      ],
      "metadata": {
        "colab": {
          "base_uri": "https://localhost:8080/"
        },
        "id": "oY6fEkbdgXVV",
        "outputId": "0a5ce8ba-55ee-4500-f28b-41e7ff8f2ede"
      },
      "execution_count": 26,
      "outputs": [
        {
          "output_type": "execute_result",
          "data": {
            "text/plain": [
              "((200, 19), (200,))"
            ]
          },
          "metadata": {},
          "execution_count": 26
        }
      ]
    },
    {
      "cell_type": "code",
      "source": [
        "validity=0\n",
        "for i in range(len(cf_all)):\n",
        "  if clf.predict(np.array(cf_all[i]).reshape(1,-1))==1-y_test[i]:\n",
        "    validity+=1\n",
        "\n",
        "print(validity)"
      ],
      "metadata": {
        "colab": {
          "base_uri": "https://localhost:8080/"
        },
        "id": "-krP6Ft9uV8j",
        "outputId": "23c6b8ae-fa38-4289-d638-5ebfb378cdbe"
      },
      "execution_count": 27,
      "outputs": [
        {
          "output_type": "stream",
          "name": "stdout",
          "text": [
            "142\n"
          ]
        }
      ]
    },
    {
      "cell_type": "code",
      "source": [
        "def get_stats(x_train,ft_types):\n",
        "  '''\n",
        "  should receive the raw data\n",
        "  '''\n",
        "  n_ft= x_train.shape[1]\n",
        "  stats=[]\n",
        "  for i in range(n_ft):\n",
        "    s=[]\n",
        "    if ft_types[i]=='ct':\n",
        "      s[0]=np.mean(x_train[:,i])\n",
        "      s[1]=np.var(x_train[:,i])**0.5\n",
        "    else: #consider only cont and cat currently. Need discrete data also.\n",
        "      s[0]=np.min(x_train[:,i])\n",
        "      s[1]=np.max(x_train[:,i])\n",
        "    stats.append(s)\n",
        "\n",
        "  return stats\n"
      ],
      "metadata": {
        "id": "REmAffUpOtfU"
      },
      "execution_count": null,
      "outputs": []
    },
    {
      "cell_type": "code",
      "source": [
        "def gen_random_point(stats,ft_types):\n",
        "  randx=[]\n",
        "  for i in range(len(stats)):\n",
        "    val=0\n",
        "    if ft_types[i]=='continuous':\n",
        "      val=np.randn(stats[i][0],stats[i][1],size=None)\n",
        "    else:\n",
        "      val=np.random.randint(stats[i][0],stats[i][1])\n",
        "    randx[i]=val\n",
        "\n",
        "  return randx\n",
        "\n"
      ],
      "metadata": {
        "id": "SUqCOWC6OmRd"
      },
      "execution_count": null,
      "outputs": []
    }
  ]
}