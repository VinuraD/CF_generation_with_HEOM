{
  "cells": [
    {
      "cell_type": "code",
      "execution_count": 1,
      "metadata": {
        "colab": {
          "base_uri": "https://localhost:8080/"
        },
        "id": "zvIe10DyMrj6",
        "outputId": "ef91fee8-690a-47fa-8c8e-2e166454fb05"
      },
      "outputs": [
        {
          "name": "stdout",
          "output_type": "stream",
          "text": [
            "Requirement already satisfied: cvxpy in /usr/local/lib/python3.10/dist-packages (1.3.3)\n",
            "Requirement already satisfied: osqp>=0.4.1 in /usr/local/lib/python3.10/dist-packages (from cvxpy) (0.6.2.post8)\n",
            "Requirement already satisfied: ecos>=2 in /usr/local/lib/python3.10/dist-packages (from cvxpy) (2.0.13)\n",
            "Requirement already satisfied: scs>=1.1.6 in /usr/local/lib/python3.10/dist-packages (from cvxpy) (3.2.4.post1)\n",
            "Requirement already satisfied: numpy>=1.15 in /usr/local/lib/python3.10/dist-packages (from cvxpy) (1.25.2)\n",
            "Requirement already satisfied: scipy>=1.1.0 in /usr/local/lib/python3.10/dist-packages (from cvxpy) (1.11.4)\n",
            "Requirement already satisfied: setuptools>65.5.1 in /usr/local/lib/python3.10/dist-packages (from cvxpy) (67.7.2)\n",
            "Requirement already satisfied: qdldl in /usr/local/lib/python3.10/dist-packages (from osqp>=0.4.1->cvxpy) (0.1.7.post0)\n"
          ]
        }
      ],
      "source": [
        "!pip install cvxpy"
      ]
    },
    {
      "cell_type": "code",
      "execution_count": 2,
      "metadata": {
        "colab": {
          "base_uri": "https://localhost:8080/"
        },
        "id": "cq0Yi-lRsABa",
        "outputId": "ad3c5c19-298d-4720-eb7a-6b658a05b801"
      },
      "outputs": [
        {
          "name": "stdout",
          "output_type": "stream",
          "text": [
            "Collecting gurobipy\n",
            "  Downloading gurobipy-11.0.1-cp310-cp310-manylinux2014_x86_64.manylinux_2_17_x86_64.whl (13.4 MB)\n",
            "\u001b[2K     \u001b[90m━━━━━━━━━━━━━━━━━━━━━━━━━━━━━━━━━━━━━━━━\u001b[0m \u001b[32m13.4/13.4 MB\u001b[0m \u001b[31m48.7 MB/s\u001b[0m eta \u001b[36m0:00:00\u001b[0m\n",
            "\u001b[?25hInstalling collected packages: gurobipy\n",
            "Successfully installed gurobipy-11.0.1\n"
          ]
        }
      ],
      "source": [
        "# !pip install gurobipy"
      ]
    },
    {
      "cell_type": "code",
      "execution_count": 3,
      "metadata": {
        "id": "iPATsDLrMxTC"
      },
      "outputs": [],
      "source": [
        "import cvxpy as cp\n",
        "# import gurobipy as gp\n",
        "import numpy as np\n",
        "from sklearn.datasets import load_breast_cancer\n",
        "from sklearn.model_selection import train_test_split\n",
        "from sklearn.linear_model import LogisticRegression\n",
        "from sklearn.preprocessing import StandardScaler"
      ]
    },
    {
      "cell_type": "code",
      "execution_count": 4,
      "metadata": {
        "id": "__Db9dJbOYuh"
      },
      "outputs": [],
      "source": [
        "np.random.seed(1)\n",
        "sc=StandardScaler()"
      ]
    },
    {
      "cell_type": "code",
      "execution_count": 5,
      "metadata": {
        "id": "h54XLBv-Wsp3"
      },
      "outputs": [],
      "source": [
        "dat=load_breast_cancer(return_X_y=True, as_frame=False)"
      ]
    },
    {
      "cell_type": "code",
      "execution_count": 6,
      "metadata": {
        "id": "Y86UREnXW4cc"
      },
      "outputs": [],
      "source": [
        "X,y=dat[0],dat[1]"
      ]
    },
    {
      "cell_type": "code",
      "execution_count": 7,
      "metadata": {
        "id": "wjphhlqiYYwn"
      },
      "outputs": [],
      "source": [
        "x_train,x_test,y_train,y_test=train_test_split(X,y,test_size=0.2,random_state=13)"
      ]
    },
    {
      "cell_type": "code",
      "execution_count": 8,
      "metadata": {
        "id": "--U9HUX9ZT2d"
      },
      "outputs": [],
      "source": [
        "x_train=sc.fit_transform(x_train)\n",
        "x_test=sc.transform(x_test)"
      ]
    },
    {
      "cell_type": "code",
      "execution_count": 9,
      "metadata": {
        "id": "NNmhEHDSYOk9"
      },
      "outputs": [],
      "source": [
        "clf = LogisticRegression(random_state=0).fit(x_train,y_train)"
      ]
    },
    {
      "cell_type": "code",
      "execution_count": 10,
      "metadata": {
        "id": "aKA9ymbGXVtW"
      },
      "outputs": [],
      "source": [
        "def create_obj_var(x,n_ft,ft_type):\n",
        "  vars=[]\n",
        "  obj_var=[0]*n_ft\n",
        "  for i in range(n_ft):\n",
        "    # vars[i]=cp.Variable()\n",
        "    # print(ft_type[i])\n",
        "    if ft_type[i]=='ct':\n",
        "      # print(vars[i])\n",
        "      v=cp.Variable()\n",
        "      obj_var[i]=(cp.norm(v-x[i],1)) #should add denominator\n",
        "    else:\n",
        "      v=cp.Variable(boolean=True)\n",
        "      obj_var[i]=(cp.maximum(1,(v-x[i])/1000))\n",
        "    vars.append(v)\n",
        "  vars=cp.Variable(n_ft)\n",
        "  return vars,obj_var\n",
        "\n"
      ]
    },
    {
      "cell_type": "code",
      "execution_count": 46,
      "metadata": {
        "id": "Gycs87ZPyN6g"
      },
      "outputs": [],
      "source": [
        "# vars,_=create_obj_var(x_test[0],30,['ct']*30)\n",
        "# vars"
      ]
    },
    {
      "cell_type": "code",
      "execution_count": 47,
      "metadata": {
        "id": "TAsQ9QCo0iKI"
      },
      "outputs": [],
      "source": [
        "# p=vars@clf.coef_[0].T\n",
        "# cp.exp(p)/1+cp.exp(p)"
      ]
    },
    {
      "cell_type": "code",
      "execution_count": 49,
      "metadata": {
        "colab": {
          "base_uri": "https://localhost:8080/"
        },
        "id": "m0yrk0on2rzo",
        "outputId": "275f2eae-3ab7-4c2a-b076-a9444c06ea28"
      },
      "outputs": [
        {
          "data": {
            "text/plain": [
              "-0.11867402693217703"
            ]
          },
          "execution_count": 49,
          "metadata": {},
          "output_type": "execute_result"
        }
      ],
      "source": [
        "# np.logaddexp(-1000,x_test[0]@clf.coef_[0]+clf.intercept_[0])"
      ]
    },
    {
      "cell_type": "code",
      "execution_count": 51,
      "metadata": {
        "colab": {
          "base_uri": "https://localhost:8080/"
        },
        "id": "D7w3NZYJ3PFU",
        "outputId": "54cb49fe-37ae-419b-c146-dcf83f34b083"
      },
      "outputs": [
        {
          "data": {
            "text/plain": [
              "-0.11867402693217703"
            ]
          },
          "execution_count": 51,
          "metadata": {},
          "output_type": "execute_result"
        }
      ],
      "source": [
        "# p=x_test[0]@clf.coef_[0]+clf.intercept_[0]\n",
        "# (np.exp(p)/(1+np.exp(p)))\n",
        "# p"
      ]
    },
    {
      "cell_type": "code",
      "execution_count": 11,
      "metadata": {
        "id": "xbZT4vMQxITx"
      },
      "outputs": [],
      "source": [
        "def check_pred(cf,clf,target):\n",
        "  cf=cp.hstack(cf)\n",
        "  # p=cp.log_sum_exp(cp.hstack([-1000,cf@clf.coef_[0].T+clf.intercept_[0]]))\n",
        "  p=cp.matmul(cf,clf.coef_[0])+clf.intercept_[0]\n",
        "  # p=cp.exp(p)/(1+cp.exp(p))\n",
        "  p=cp.sum(cp.exp(p - cp.log(target)))\n",
        "  return p\n",
        "\n"
      ]
    },
    {
      "cell_type": "code",
      "execution_count": null,
      "metadata": {
        "id": "_poaMsnR5vDA"
      },
      "outputs": [],
      "source": [
        "# import cvxpy as cp\n",
        "# import numpy as np\n",
        "# from sklearn.linear_model import LogisticRegression\n",
        "\n",
        "# # Generate some example data\n",
        "# np.random.seed(0)  # For reproducibility\n",
        "# X = np.random.rand(100, 2)  # Example input features\n",
        "# y = np.random.randint(0, 2, 100)  # Example binary labels (0 or 1)\n",
        "\n",
        "# # Fit a logistic regression model\n",
        "# logreg_model = LogisticRegression()\n",
        "# logreg_model.fit(X, y)\n",
        "\n",
        "# # Define cvxpy variable for the input vector\n",
        "# x = cp.Variable(2)\n",
        "\n",
        "# # Compute the log odds (linear part of logistic regression)\n",
        "# log_odds = cp.matmul(x, logreg_model.coef_[0]) + logreg_model.intercept_\n",
        "\n",
        "# # Define the target probability (e.g., close to zero)\n",
        "# target_probability = 0.3  # Adjust as needed\n",
        "\n",
        "# # Define the log-sum-exp constraint indirectly\n",
        "# constraint_lhs = cp.sum(cp.exp(log_odds - cp.log(target_probability)))\n",
        "# constraint_rhs = len(X)  # Number of data points\n",
        "# constraint = constraint_lhs <= constraint_rhs\n",
        "\n",
        "# # Create the cvxpy problem with the constraint\n",
        "# problem = cp.Problem(cp.Minimize(0), [constraint])\n",
        "\n",
        "# # Solve the problem\n",
        "# problem.solve()\n",
        "\n",
        "# # Access the optimized input vector\n",
        "# optimal_vector = x.value\n",
        "\n",
        "# # Evaluate the log odds for the optimal vector\n",
        "# optimal_log_odds = np.dot(optimal_vector, logreg_model.coef_[0]) + logreg_model.intercept_\n",
        "\n",
        "# print(\"Optimal Input Vector:\", optimal_vector)\n",
        "# print(\"Log Odds for Optimal Vector:\", optimal_log_odds)\n"
      ]
    },
    {
      "cell_type": "code",
      "execution_count": 25,
      "metadata": {
        "id": "tQRLS6MFzSpC"
      },
      "outputs": [],
      "source": [
        "# Create constraint.\n",
        "def optimize(vars,obj_var,clf,x,target):\n",
        "  # vars.append(cp.Variable())\n",
        "  # x=x.reshape(1,-1)\n",
        "\n",
        "  # p=cp.sum(vars*np.transpose(np.array(clf.coef_))) +clf.intercept_[0]\n",
        "  # print(p)\n",
        "  # p=1/1+cp.exp(-p)\n",
        "\n",
        "\n",
        "  # cf=[]\n",
        "  # for j in vars:\n",
        "  #   j.value=np.random.randn(1)[0]\n",
        "\n",
        "  # v=cp.Variable(30)\n",
        "  constraints=[check_pred(vars,clf,target)<=1]\n",
        "\n",
        "  # Form objective.\n",
        "  objective = cp.Minimize(cp.sqrt(cp.sum_squares(cp.vstack(obj_var)))) #\n",
        "  # objective = cp.Minimize((cp.sum(cp.vstack(obj_var))))\n",
        "  # objective = cp.Minimize(cp.norm(v-x,1))\n",
        "\n",
        "  # vars.value = numpy.random.randn(30)\n",
        "\n",
        "\n",
        "  # Form and solve problem.\n",
        "  prob = cp.Problem(objective,constraints)\n",
        "  prob.solve(solver=cp.ECOS_BB,qcp=True,verbose=True) #cp.SCS, cp.ECOS_BB\n",
        "  # prob.solve(warm_start=True)\n",
        "  print(\"status: {}\".format(prob.status))\n",
        "  return vars"
      ]
    },
    {
      "cell_type": "code",
      "execution_count": null,
      "metadata": {
        "id": "YR0Fe6P8Y-hf"
      },
      "outputs": [],
      "source": [
        "cf_all=[]\n",
        "ft_type=['ct']*30\n",
        "n_ft=30\n",
        "for k in range(len(x_test)):\n",
        "  i=x_test[k]\n",
        "  target=1-y_test[k]\n",
        "  vars,obj_var=create_obj_var(i,n_ft,ft_type)\n",
        "  cf=[]\n",
        "  target=0.001 if target==0 else 0.999\n",
        "  vals=optimize(vars,obj_var,clf,i,target)\n",
        "  for j in vals:\n",
        "    cf.append(j.value)\n",
        "  cf_all.append(cf)"
      ]
    },
    {
      "cell_type": "code",
      "execution_count": 27,
      "metadata": {
        "colab": {
          "base_uri": "https://localhost:8080/"
        },
        "id": "oY6fEkbdgXVV",
        "outputId": "164b6668-71be-4d46-b44a-1fb929b4de54"
      },
      "outputs": [
        {
          "data": {
            "text/plain": [
              "((114, 30), (114,))"
            ]
          },
          "execution_count": 27,
          "metadata": {},
          "output_type": "execute_result"
        }
      ],
      "source": [
        "np.array(cf_all).shape, y_test.shape"
      ]
    },
    {
      "cell_type": "code",
      "execution_count": 28,
      "metadata": {
        "colab": {
          "base_uri": "https://localhost:8080/"
        },
        "id": "-krP6Ft9uV8j",
        "outputId": "7f29c1e8-c39d-4d54-cd4e-127757d156d3"
      },
      "outputs": [
        {
          "name": "stdout",
          "output_type": "stream",
          "text": [
            "78\n"
          ]
        }
      ],
      "source": [
        "validity=0\n",
        "for i in range(len(cf_all)):\n",
        "  if clf.predict(np.array(cf_all[i]).reshape(1,-1))==1-y_test[i]:\n",
        "    validity+=1\n",
        "\n",
        "print(validity)"
      ]
    },
    {
      "cell_type": "code",
      "execution_count": 8,
      "metadata": {
        "id": "REmAffUpOtfU"
      },
      "outputs": [],
      "source": [
        "def get_stats(x_train,ft_types):\n",
        "  '''\n",
        "  should receive the raw data\n",
        "  '''\n",
        "  n_ft= x_train.shape[1]\n",
        "  stats=[]\n",
        "  for i in range(n_ft):\n",
        "    s=[]\n",
        "    if ft_types[i]=='ct':\n",
        "      s[0]=np.mean(x_train[:,i])\n",
        "      s[1]=np.var(x_train[:,i])**0.5\n",
        "    else: #consider only cont and cat currently. Need discrete data also.\n",
        "      s[0]=np.min(x_train[:,i])\n",
        "      s[1]=np.max(x_train[:,i])\n",
        "    stats.append(s)\n",
        "\n",
        "  return stats\n"
      ]
    },
    {
      "cell_type": "code",
      "execution_count": null,
      "metadata": {
        "id": "SUqCOWC6OmRd"
      },
      "outputs": [],
      "source": [
        "def gen_random_point(stats,ft_types):\n",
        "  randx=[]\n",
        "  for i in range(len(stats)):\n",
        "    val=0\n",
        "    if ft_types[i]=='continuous':\n",
        "      val=np.randn(stats[i][0],stats[i][1],size=None)\n",
        "    else:\n",
        "      val=np.random.randint(stats[i][0],stats[i][1])\n",
        "    randx[i]=val\n",
        "\n",
        "  return randx\n",
        "\n"
      ]
    }
  ],
  "metadata": {
    "colab": {
      "provenance": []
    },
    "kernelspec": {
      "display_name": "Python 3",
      "name": "python3"
    },
    "language_info": {
      "name": "python"
    }
  },
  "nbformat": 4,
  "nbformat_minor": 0
}
