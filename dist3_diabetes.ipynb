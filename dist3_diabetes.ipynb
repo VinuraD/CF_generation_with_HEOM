{
  "nbformat": 4,
  "nbformat_minor": 0,
  "metadata": {
    "colab": {
      "provenance": []
    },
    "kernelspec": {
      "name": "python3",
      "display_name": "Python 3"
    },
    "language_info": {
      "name": "python"
    }
  },
  "cells": [
    {
      "cell_type": "code",
      "execution_count": null,
      "metadata": {
        "id": "zvIe10DyMrj6",
        "colab": {
          "base_uri": "https://localhost:8080/"
        },
        "outputId": "95264334-7881-4102-b2cc-a5f74a371b61"
      },
      "outputs": [
        {
          "output_type": "stream",
          "name": "stdout",
          "text": [
            "Requirement already satisfied: cvxpy in /usr/local/lib/python3.10/dist-packages (1.3.3)\n",
            "Collecting cvxpy\n",
            "  Downloading cvxpy-1.4.3-cp310-cp310-manylinux_2_17_x86_64.manylinux2014_x86_64.whl (1.2 MB)\n",
            "\u001b[2K     \u001b[90m━━━━━━━━━━━━━━━━━━━━━━━━━━━━━━━━━━━━━━━━\u001b[0m \u001b[32m1.2/1.2 MB\u001b[0m \u001b[31m8.4 MB/s\u001b[0m eta \u001b[36m0:00:00\u001b[0m\n",
            "\u001b[?25hRequirement already satisfied: osqp>=0.6.2 in /usr/local/lib/python3.10/dist-packages (from cvxpy) (0.6.2.post8)\n",
            "Requirement already satisfied: ecos>=2 in /usr/local/lib/python3.10/dist-packages (from cvxpy) (2.0.13)\n",
            "Collecting clarabel>=0.5.0 (from cvxpy)\n",
            "  Downloading clarabel-0.7.1-cp37-abi3-manylinux_2_17_x86_64.manylinux2014_x86_64.whl (1.3 MB)\n",
            "\u001b[2K     \u001b[90m━━━━━━━━━━━━━━━━━━━━━━━━━━━━━━━━━━━━━━━━\u001b[0m \u001b[32m1.3/1.3 MB\u001b[0m \u001b[31m20.4 MB/s\u001b[0m eta \u001b[36m0:00:00\u001b[0m\n",
            "\u001b[?25hRequirement already satisfied: scs>=3.0 in /usr/local/lib/python3.10/dist-packages (from cvxpy) (3.2.4.post1)\n",
            "Requirement already satisfied: numpy>=1.15 in /usr/local/lib/python3.10/dist-packages (from cvxpy) (1.25.2)\n",
            "Requirement already satisfied: scipy>=1.1.0 in /usr/local/lib/python3.10/dist-packages (from cvxpy) (1.11.4)\n",
            "Collecting pybind11 (from cvxpy)\n",
            "  Downloading pybind11-2.12.0-py3-none-any.whl (234 kB)\n",
            "\u001b[2K     \u001b[90m━━━━━━━━━━━━━━━━━━━━━━━━━━━━━━━━━━━━━━━━\u001b[0m \u001b[32m235.0/235.0 kB\u001b[0m \u001b[31m11.2 MB/s\u001b[0m eta \u001b[36m0:00:00\u001b[0m\n",
            "\u001b[?25hRequirement already satisfied: qdldl in /usr/local/lib/python3.10/dist-packages (from osqp>=0.6.2->cvxpy) (0.1.7.post1)\n",
            "Installing collected packages: pybind11, clarabel, cvxpy\n",
            "  Attempting uninstall: cvxpy\n",
            "    Found existing installation: cvxpy 1.3.3\n",
            "    Uninstalling cvxpy-1.3.3:\n",
            "      Successfully uninstalled cvxpy-1.3.3\n",
            "Successfully installed clarabel-0.7.1 cvxpy-1.4.3 pybind11-2.12.0\n"
          ]
        }
      ],
      "source": [
        "# !pip install cvxpy\n",
        "!pip install --upgrade --pre cvxpy"
      ]
    },
    {
      "cell_type": "code",
      "source": [
        "# !pip install gurobipy\n",
        "!pip install mosek"
      ],
      "metadata": {
        "id": "cq0Yi-lRsABa",
        "colab": {
          "base_uri": "https://localhost:8080/"
        },
        "outputId": "db5aad0c-8dc0-4683-9354-6dbaa941afc0"
      },
      "execution_count": null,
      "outputs": [
        {
          "output_type": "stream",
          "name": "stdout",
          "text": [
            "Collecting mosek\n",
            "  Downloading Mosek-10.1.28-cp37-abi3-manylinux2014_x86_64.whl (14.9 MB)\n",
            "\u001b[2K     \u001b[90m━━━━━━━━━━━━━━━━━━━━━━━━━━━━━━━━━━━━━━━━\u001b[0m \u001b[32m14.9/14.9 MB\u001b[0m \u001b[31m47.4 MB/s\u001b[0m eta \u001b[36m0:00:00\u001b[0m\n",
            "\u001b[?25hRequirement already satisfied: numpy in /usr/local/lib/python3.10/dist-packages (from mosek) (1.25.2)\n",
            "Installing collected packages: mosek\n",
            "Successfully installed mosek-10.1.28\n"
          ]
        }
      ]
    },
    {
      "cell_type": "code",
      "source": [
        "import cvxpy as cp\n",
        "# import gurobipy as gp\n",
        "import mosek\n",
        "import numpy as np\n",
        "from sklearn.datasets import load_breast_cancer,load_diabetes\n",
        "from sklearn.model_selection import train_test_split\n",
        "from sklearn.linear_model import LogisticRegression\n",
        "from sklearn.preprocessing import StandardScaler\n",
        "import pandas as pd\n",
        "from sklearn.preprocessing import LabelEncoder, OneHotEncoder, StandardScaler\n",
        "from sklearn.pipeline import Pipeline\n",
        "from sklearn.compose import ColumnTransformer\n",
        "from sklearn.ensemble import RandomForestClassifier\n",
        "from sklearn.neural_network import MLPClassifier\n",
        "from sklearn.neighbors import NearestCentroid\n",
        "from scipy.spatial.distance import cdist\n"
      ],
      "metadata": {
        "id": "iPATsDLrMxTC"
      },
      "execution_count": null,
      "outputs": []
    },
    {
      "cell_type": "code",
      "source": [
        "np.random.seed(1)\n",
        "sc=StandardScaler()"
      ],
      "metadata": {
        "id": "__Db9dJbOYuh"
      },
      "execution_count": null,
      "outputs": []
    },
    {
      "cell_type": "code",
      "source": [
        "df=pd.read_csv('/content/diabetes.csv')"
      ],
      "metadata": {
        "id": "b7WM5x_Ky8Wx"
      },
      "execution_count": null,
      "outputs": []
    },
    {
      "cell_type": "code",
      "source": [
        "df"
      ],
      "metadata": {
        "colab": {
          "base_uri": "https://localhost:8080/",
          "height": 443
        },
        "id": "pP5B3vrJzApC",
        "outputId": "84a0de6c-be63-47c1-9794-7307262ceca3"
      },
      "execution_count": null,
      "outputs": [
        {
          "output_type": "execute_result",
          "data": {
            "text/plain": [
              "     Age  Gender   BMI  BloodPressure  TCells  LowDensityLipoproteins  \\\n",
              "0     59       1  32.1         101.00     157                    93.2   \n",
              "1     48       0  21.6          87.00     183                   103.2   \n",
              "2     72       1  30.5          93.00     156                    93.6   \n",
              "3     24       0  25.3          84.00     198                   131.4   \n",
              "4     50       0  23.0         101.00     192                   125.4   \n",
              "..   ...     ...   ...            ...     ...                     ...   \n",
              "437   60       1  28.2         112.00     185                   113.8   \n",
              "438   47       1  24.9          75.00     225                   166.0   \n",
              "439   60       1  24.9          99.67     162                   106.6   \n",
              "440   36       0  30.0          95.00     201                   125.2   \n",
              "441   36       0  19.6          71.00     250                   133.2   \n",
              "\n",
              "     HighDensityLipoproteins  ThyroidStimulatingHormone  Lamotrigine  \\\n",
              "0                       38.0                       4.00       4.8598   \n",
              "1                       70.0                       3.00       3.8918   \n",
              "2                       41.0                       4.00       4.6728   \n",
              "3                       40.0                       5.00       4.8903   \n",
              "4                       52.0                       4.00       4.2905   \n",
              "..                       ...                        ...          ...   \n",
              "437                     42.0                       4.00       4.9836   \n",
              "438                     42.0                       5.00       4.4427   \n",
              "439                     43.0                       3.77       4.1271   \n",
              "440                     42.0                       4.79       5.1299   \n",
              "441                     97.0                       3.00       4.5951   \n",
              "\n",
              "     BloodSugarLevel  DiseaseProgression  \n",
              "0                 87                   1  \n",
              "1                 69                   0  \n",
              "2                 85                   1  \n",
              "3                 89                   1  \n",
              "4                 80                   0  \n",
              "..               ...                 ...  \n",
              "437               93                   1  \n",
              "438              102                   0  \n",
              "439               95                   0  \n",
              "440               85                   1  \n",
              "441               92                   0  \n",
              "\n",
              "[442 rows x 11 columns]"
            ],
            "text/html": [
              "\n",
              "  <div id=\"df-08efd9b9-bff9-4f3a-98ab-931361b823e0\" class=\"colab-df-container\">\n",
              "    <div>\n",
              "<style scoped>\n",
              "    .dataframe tbody tr th:only-of-type {\n",
              "        vertical-align: middle;\n",
              "    }\n",
              "\n",
              "    .dataframe tbody tr th {\n",
              "        vertical-align: top;\n",
              "    }\n",
              "\n",
              "    .dataframe thead th {\n",
              "        text-align: right;\n",
              "    }\n",
              "</style>\n",
              "<table border=\"1\" class=\"dataframe\">\n",
              "  <thead>\n",
              "    <tr style=\"text-align: right;\">\n",
              "      <th></th>\n",
              "      <th>Age</th>\n",
              "      <th>Gender</th>\n",
              "      <th>BMI</th>\n",
              "      <th>BloodPressure</th>\n",
              "      <th>TCells</th>\n",
              "      <th>LowDensityLipoproteins</th>\n",
              "      <th>HighDensityLipoproteins</th>\n",
              "      <th>ThyroidStimulatingHormone</th>\n",
              "      <th>Lamotrigine</th>\n",
              "      <th>BloodSugarLevel</th>\n",
              "      <th>DiseaseProgression</th>\n",
              "    </tr>\n",
              "  </thead>\n",
              "  <tbody>\n",
              "    <tr>\n",
              "      <th>0</th>\n",
              "      <td>59</td>\n",
              "      <td>1</td>\n",
              "      <td>32.1</td>\n",
              "      <td>101.00</td>\n",
              "      <td>157</td>\n",
              "      <td>93.2</td>\n",
              "      <td>38.0</td>\n",
              "      <td>4.00</td>\n",
              "      <td>4.8598</td>\n",
              "      <td>87</td>\n",
              "      <td>1</td>\n",
              "    </tr>\n",
              "    <tr>\n",
              "      <th>1</th>\n",
              "      <td>48</td>\n",
              "      <td>0</td>\n",
              "      <td>21.6</td>\n",
              "      <td>87.00</td>\n",
              "      <td>183</td>\n",
              "      <td>103.2</td>\n",
              "      <td>70.0</td>\n",
              "      <td>3.00</td>\n",
              "      <td>3.8918</td>\n",
              "      <td>69</td>\n",
              "      <td>0</td>\n",
              "    </tr>\n",
              "    <tr>\n",
              "      <th>2</th>\n",
              "      <td>72</td>\n",
              "      <td>1</td>\n",
              "      <td>30.5</td>\n",
              "      <td>93.00</td>\n",
              "      <td>156</td>\n",
              "      <td>93.6</td>\n",
              "      <td>41.0</td>\n",
              "      <td>4.00</td>\n",
              "      <td>4.6728</td>\n",
              "      <td>85</td>\n",
              "      <td>1</td>\n",
              "    </tr>\n",
              "    <tr>\n",
              "      <th>3</th>\n",
              "      <td>24</td>\n",
              "      <td>0</td>\n",
              "      <td>25.3</td>\n",
              "      <td>84.00</td>\n",
              "      <td>198</td>\n",
              "      <td>131.4</td>\n",
              "      <td>40.0</td>\n",
              "      <td>5.00</td>\n",
              "      <td>4.8903</td>\n",
              "      <td>89</td>\n",
              "      <td>1</td>\n",
              "    </tr>\n",
              "    <tr>\n",
              "      <th>4</th>\n",
              "      <td>50</td>\n",
              "      <td>0</td>\n",
              "      <td>23.0</td>\n",
              "      <td>101.00</td>\n",
              "      <td>192</td>\n",
              "      <td>125.4</td>\n",
              "      <td>52.0</td>\n",
              "      <td>4.00</td>\n",
              "      <td>4.2905</td>\n",
              "      <td>80</td>\n",
              "      <td>0</td>\n",
              "    </tr>\n",
              "    <tr>\n",
              "      <th>...</th>\n",
              "      <td>...</td>\n",
              "      <td>...</td>\n",
              "      <td>...</td>\n",
              "      <td>...</td>\n",
              "      <td>...</td>\n",
              "      <td>...</td>\n",
              "      <td>...</td>\n",
              "      <td>...</td>\n",
              "      <td>...</td>\n",
              "      <td>...</td>\n",
              "      <td>...</td>\n",
              "    </tr>\n",
              "    <tr>\n",
              "      <th>437</th>\n",
              "      <td>60</td>\n",
              "      <td>1</td>\n",
              "      <td>28.2</td>\n",
              "      <td>112.00</td>\n",
              "      <td>185</td>\n",
              "      <td>113.8</td>\n",
              "      <td>42.0</td>\n",
              "      <td>4.00</td>\n",
              "      <td>4.9836</td>\n",
              "      <td>93</td>\n",
              "      <td>1</td>\n",
              "    </tr>\n",
              "    <tr>\n",
              "      <th>438</th>\n",
              "      <td>47</td>\n",
              "      <td>1</td>\n",
              "      <td>24.9</td>\n",
              "      <td>75.00</td>\n",
              "      <td>225</td>\n",
              "      <td>166.0</td>\n",
              "      <td>42.0</td>\n",
              "      <td>5.00</td>\n",
              "      <td>4.4427</td>\n",
              "      <td>102</td>\n",
              "      <td>0</td>\n",
              "    </tr>\n",
              "    <tr>\n",
              "      <th>439</th>\n",
              "      <td>60</td>\n",
              "      <td>1</td>\n",
              "      <td>24.9</td>\n",
              "      <td>99.67</td>\n",
              "      <td>162</td>\n",
              "      <td>106.6</td>\n",
              "      <td>43.0</td>\n",
              "      <td>3.77</td>\n",
              "      <td>4.1271</td>\n",
              "      <td>95</td>\n",
              "      <td>0</td>\n",
              "    </tr>\n",
              "    <tr>\n",
              "      <th>440</th>\n",
              "      <td>36</td>\n",
              "      <td>0</td>\n",
              "      <td>30.0</td>\n",
              "      <td>95.00</td>\n",
              "      <td>201</td>\n",
              "      <td>125.2</td>\n",
              "      <td>42.0</td>\n",
              "      <td>4.79</td>\n",
              "      <td>5.1299</td>\n",
              "      <td>85</td>\n",
              "      <td>1</td>\n",
              "    </tr>\n",
              "    <tr>\n",
              "      <th>441</th>\n",
              "      <td>36</td>\n",
              "      <td>0</td>\n",
              "      <td>19.6</td>\n",
              "      <td>71.00</td>\n",
              "      <td>250</td>\n",
              "      <td>133.2</td>\n",
              "      <td>97.0</td>\n",
              "      <td>3.00</td>\n",
              "      <td>4.5951</td>\n",
              "      <td>92</td>\n",
              "      <td>0</td>\n",
              "    </tr>\n",
              "  </tbody>\n",
              "</table>\n",
              "<p>442 rows × 11 columns</p>\n",
              "</div>\n",
              "    <div class=\"colab-df-buttons\">\n",
              "\n",
              "  <div class=\"colab-df-container\">\n",
              "    <button class=\"colab-df-convert\" onclick=\"convertToInteractive('df-08efd9b9-bff9-4f3a-98ab-931361b823e0')\"\n",
              "            title=\"Convert this dataframe to an interactive table.\"\n",
              "            style=\"display:none;\">\n",
              "\n",
              "  <svg xmlns=\"http://www.w3.org/2000/svg\" height=\"24px\" viewBox=\"0 -960 960 960\">\n",
              "    <path d=\"M120-120v-720h720v720H120Zm60-500h600v-160H180v160Zm220 220h160v-160H400v160Zm0 220h160v-160H400v160ZM180-400h160v-160H180v160Zm440 0h160v-160H620v160ZM180-180h160v-160H180v160Zm440 0h160v-160H620v160Z\"/>\n",
              "  </svg>\n",
              "    </button>\n",
              "\n",
              "  <style>\n",
              "    .colab-df-container {\n",
              "      display:flex;\n",
              "      gap: 12px;\n",
              "    }\n",
              "\n",
              "    .colab-df-convert {\n",
              "      background-color: #E8F0FE;\n",
              "      border: none;\n",
              "      border-radius: 50%;\n",
              "      cursor: pointer;\n",
              "      display: none;\n",
              "      fill: #1967D2;\n",
              "      height: 32px;\n",
              "      padding: 0 0 0 0;\n",
              "      width: 32px;\n",
              "    }\n",
              "\n",
              "    .colab-df-convert:hover {\n",
              "      background-color: #E2EBFA;\n",
              "      box-shadow: 0px 1px 2px rgba(60, 64, 67, 0.3), 0px 1px 3px 1px rgba(60, 64, 67, 0.15);\n",
              "      fill: #174EA6;\n",
              "    }\n",
              "\n",
              "    .colab-df-buttons div {\n",
              "      margin-bottom: 4px;\n",
              "    }\n",
              "\n",
              "    [theme=dark] .colab-df-convert {\n",
              "      background-color: #3B4455;\n",
              "      fill: #D2E3FC;\n",
              "    }\n",
              "\n",
              "    [theme=dark] .colab-df-convert:hover {\n",
              "      background-color: #434B5C;\n",
              "      box-shadow: 0px 1px 3px 1px rgba(0, 0, 0, 0.15);\n",
              "      filter: drop-shadow(0px 1px 2px rgba(0, 0, 0, 0.3));\n",
              "      fill: #FFFFFF;\n",
              "    }\n",
              "  </style>\n",
              "\n",
              "    <script>\n",
              "      const buttonEl =\n",
              "        document.querySelector('#df-08efd9b9-bff9-4f3a-98ab-931361b823e0 button.colab-df-convert');\n",
              "      buttonEl.style.display =\n",
              "        google.colab.kernel.accessAllowed ? 'block' : 'none';\n",
              "\n",
              "      async function convertToInteractive(key) {\n",
              "        const element = document.querySelector('#df-08efd9b9-bff9-4f3a-98ab-931361b823e0');\n",
              "        const dataTable =\n",
              "          await google.colab.kernel.invokeFunction('convertToInteractive',\n",
              "                                                    [key], {});\n",
              "        if (!dataTable) return;\n",
              "\n",
              "        const docLinkHtml = 'Like what you see? Visit the ' +\n",
              "          '<a target=\"_blank\" href=https://colab.research.google.com/notebooks/data_table.ipynb>data table notebook</a>'\n",
              "          + ' to learn more about interactive tables.';\n",
              "        element.innerHTML = '';\n",
              "        dataTable['output_type'] = 'display_data';\n",
              "        await google.colab.output.renderOutput(dataTable, element);\n",
              "        const docLink = document.createElement('div');\n",
              "        docLink.innerHTML = docLinkHtml;\n",
              "        element.appendChild(docLink);\n",
              "      }\n",
              "    </script>\n",
              "  </div>\n",
              "\n",
              "\n",
              "<div id=\"df-4491cba5-020d-48a5-a2f0-8d2a09891a22\">\n",
              "  <button class=\"colab-df-quickchart\" onclick=\"quickchart('df-4491cba5-020d-48a5-a2f0-8d2a09891a22')\"\n",
              "            title=\"Suggest charts\"\n",
              "            style=\"display:none;\">\n",
              "\n",
              "<svg xmlns=\"http://www.w3.org/2000/svg\" height=\"24px\"viewBox=\"0 0 24 24\"\n",
              "     width=\"24px\">\n",
              "    <g>\n",
              "        <path d=\"M19 3H5c-1.1 0-2 .9-2 2v14c0 1.1.9 2 2 2h14c1.1 0 2-.9 2-2V5c0-1.1-.9-2-2-2zM9 17H7v-7h2v7zm4 0h-2V7h2v10zm4 0h-2v-4h2v4z\"/>\n",
              "    </g>\n",
              "</svg>\n",
              "  </button>\n",
              "\n",
              "<style>\n",
              "  .colab-df-quickchart {\n",
              "      --bg-color: #E8F0FE;\n",
              "      --fill-color: #1967D2;\n",
              "      --hover-bg-color: #E2EBFA;\n",
              "      --hover-fill-color: #174EA6;\n",
              "      --disabled-fill-color: #AAA;\n",
              "      --disabled-bg-color: #DDD;\n",
              "  }\n",
              "\n",
              "  [theme=dark] .colab-df-quickchart {\n",
              "      --bg-color: #3B4455;\n",
              "      --fill-color: #D2E3FC;\n",
              "      --hover-bg-color: #434B5C;\n",
              "      --hover-fill-color: #FFFFFF;\n",
              "      --disabled-bg-color: #3B4455;\n",
              "      --disabled-fill-color: #666;\n",
              "  }\n",
              "\n",
              "  .colab-df-quickchart {\n",
              "    background-color: var(--bg-color);\n",
              "    border: none;\n",
              "    border-radius: 50%;\n",
              "    cursor: pointer;\n",
              "    display: none;\n",
              "    fill: var(--fill-color);\n",
              "    height: 32px;\n",
              "    padding: 0;\n",
              "    width: 32px;\n",
              "  }\n",
              "\n",
              "  .colab-df-quickchart:hover {\n",
              "    background-color: var(--hover-bg-color);\n",
              "    box-shadow: 0 1px 2px rgba(60, 64, 67, 0.3), 0 1px 3px 1px rgba(60, 64, 67, 0.15);\n",
              "    fill: var(--button-hover-fill-color);\n",
              "  }\n",
              "\n",
              "  .colab-df-quickchart-complete:disabled,\n",
              "  .colab-df-quickchart-complete:disabled:hover {\n",
              "    background-color: var(--disabled-bg-color);\n",
              "    fill: var(--disabled-fill-color);\n",
              "    box-shadow: none;\n",
              "  }\n",
              "\n",
              "  .colab-df-spinner {\n",
              "    border: 2px solid var(--fill-color);\n",
              "    border-color: transparent;\n",
              "    border-bottom-color: var(--fill-color);\n",
              "    animation:\n",
              "      spin 1s steps(1) infinite;\n",
              "  }\n",
              "\n",
              "  @keyframes spin {\n",
              "    0% {\n",
              "      border-color: transparent;\n",
              "      border-bottom-color: var(--fill-color);\n",
              "      border-left-color: var(--fill-color);\n",
              "    }\n",
              "    20% {\n",
              "      border-color: transparent;\n",
              "      border-left-color: var(--fill-color);\n",
              "      border-top-color: var(--fill-color);\n",
              "    }\n",
              "    30% {\n",
              "      border-color: transparent;\n",
              "      border-left-color: var(--fill-color);\n",
              "      border-top-color: var(--fill-color);\n",
              "      border-right-color: var(--fill-color);\n",
              "    }\n",
              "    40% {\n",
              "      border-color: transparent;\n",
              "      border-right-color: var(--fill-color);\n",
              "      border-top-color: var(--fill-color);\n",
              "    }\n",
              "    60% {\n",
              "      border-color: transparent;\n",
              "      border-right-color: var(--fill-color);\n",
              "    }\n",
              "    80% {\n",
              "      border-color: transparent;\n",
              "      border-right-color: var(--fill-color);\n",
              "      border-bottom-color: var(--fill-color);\n",
              "    }\n",
              "    90% {\n",
              "      border-color: transparent;\n",
              "      border-bottom-color: var(--fill-color);\n",
              "    }\n",
              "  }\n",
              "</style>\n",
              "\n",
              "  <script>\n",
              "    async function quickchart(key) {\n",
              "      const quickchartButtonEl =\n",
              "        document.querySelector('#' + key + ' button');\n",
              "      quickchartButtonEl.disabled = true;  // To prevent multiple clicks.\n",
              "      quickchartButtonEl.classList.add('colab-df-spinner');\n",
              "      try {\n",
              "        const charts = await google.colab.kernel.invokeFunction(\n",
              "            'suggestCharts', [key], {});\n",
              "      } catch (error) {\n",
              "        console.error('Error during call to suggestCharts:', error);\n",
              "      }\n",
              "      quickchartButtonEl.classList.remove('colab-df-spinner');\n",
              "      quickchartButtonEl.classList.add('colab-df-quickchart-complete');\n",
              "    }\n",
              "    (() => {\n",
              "      let quickchartButtonEl =\n",
              "        document.querySelector('#df-4491cba5-020d-48a5-a2f0-8d2a09891a22 button');\n",
              "      quickchartButtonEl.style.display =\n",
              "        google.colab.kernel.accessAllowed ? 'block' : 'none';\n",
              "    })();\n",
              "  </script>\n",
              "</div>\n",
              "\n",
              "  <div id=\"id_4a0dc9b6-d368-4343-b375-51574808c75b\">\n",
              "    <style>\n",
              "      .colab-df-generate {\n",
              "        background-color: #E8F0FE;\n",
              "        border: none;\n",
              "        border-radius: 50%;\n",
              "        cursor: pointer;\n",
              "        display: none;\n",
              "        fill: #1967D2;\n",
              "        height: 32px;\n",
              "        padding: 0 0 0 0;\n",
              "        width: 32px;\n",
              "      }\n",
              "\n",
              "      .colab-df-generate:hover {\n",
              "        background-color: #E2EBFA;\n",
              "        box-shadow: 0px 1px 2px rgba(60, 64, 67, 0.3), 0px 1px 3px 1px rgba(60, 64, 67, 0.15);\n",
              "        fill: #174EA6;\n",
              "      }\n",
              "\n",
              "      [theme=dark] .colab-df-generate {\n",
              "        background-color: #3B4455;\n",
              "        fill: #D2E3FC;\n",
              "      }\n",
              "\n",
              "      [theme=dark] .colab-df-generate:hover {\n",
              "        background-color: #434B5C;\n",
              "        box-shadow: 0px 1px 3px 1px rgba(0, 0, 0, 0.15);\n",
              "        filter: drop-shadow(0px 1px 2px rgba(0, 0, 0, 0.3));\n",
              "        fill: #FFFFFF;\n",
              "      }\n",
              "    </style>\n",
              "    <button class=\"colab-df-generate\" onclick=\"generateWithVariable('df')\"\n",
              "            title=\"Generate code using this dataframe.\"\n",
              "            style=\"display:none;\">\n",
              "\n",
              "  <svg xmlns=\"http://www.w3.org/2000/svg\" height=\"24px\"viewBox=\"0 0 24 24\"\n",
              "       width=\"24px\">\n",
              "    <path d=\"M7,19H8.4L18.45,9,17,7.55,7,17.6ZM5,21V16.75L18.45,3.32a2,2,0,0,1,2.83,0l1.4,1.43a1.91,1.91,0,0,1,.58,1.4,1.91,1.91,0,0,1-.58,1.4L9.25,21ZM18.45,9,17,7.55Zm-12,3A5.31,5.31,0,0,0,4.9,8.1,5.31,5.31,0,0,0,1,6.5,5.31,5.31,0,0,0,4.9,4.9,5.31,5.31,0,0,0,6.5,1,5.31,5.31,0,0,0,8.1,4.9,5.31,5.31,0,0,0,12,6.5,5.46,5.46,0,0,0,6.5,12Z\"/>\n",
              "  </svg>\n",
              "    </button>\n",
              "    <script>\n",
              "      (() => {\n",
              "      const buttonEl =\n",
              "        document.querySelector('#id_4a0dc9b6-d368-4343-b375-51574808c75b button.colab-df-generate');\n",
              "      buttonEl.style.display =\n",
              "        google.colab.kernel.accessAllowed ? 'block' : 'none';\n",
              "\n",
              "      buttonEl.onclick = () => {\n",
              "        google.colab.notebook.generateWithVariable('df');\n",
              "      }\n",
              "      })();\n",
              "    </script>\n",
              "  </div>\n",
              "\n",
              "    </div>\n",
              "  </div>\n"
            ],
            "application/vnd.google.colaboratory.intrinsic+json": {
              "type": "dataframe",
              "variable_name": "df",
              "summary": "{\n  \"name\": \"df\",\n  \"rows\": 442,\n  \"fields\": [\n    {\n      \"column\": \"Age\",\n      \"properties\": {\n        \"dtype\": \"number\",\n        \"std\": 13,\n        \"min\": 19,\n        \"max\": 79,\n        \"num_unique_values\": 58,\n        \"samples\": [\n          59,\n          23,\n          54\n        ],\n        \"semantic_type\": \"\",\n        \"description\": \"\"\n      }\n    },\n    {\n      \"column\": \"Gender\",\n      \"properties\": {\n        \"dtype\": \"number\",\n        \"std\": 0,\n        \"min\": 0,\n        \"max\": 1,\n        \"num_unique_values\": 2,\n        \"samples\": [\n          0,\n          1\n        ],\n        \"semantic_type\": \"\",\n        \"description\": \"\"\n      }\n    },\n    {\n      \"column\": \"BMI\",\n      \"properties\": {\n        \"dtype\": \"number\",\n        \"std\": 4.4181215606157735,\n        \"min\": 18.0,\n        \"max\": 42.2,\n        \"num_unique_values\": 163,\n        \"samples\": [\n          27.2,\n          21.3\n        ],\n        \"semantic_type\": \"\",\n        \"description\": \"\"\n      }\n    },\n    {\n      \"column\": \"BloodPressure\",\n      \"properties\": {\n        \"dtype\": \"number\",\n        \"std\": 13.831283419782999,\n        \"min\": 62.0,\n        \"max\": 133.0,\n        \"num_unique_values\": 100,\n        \"samples\": [\n          104.33,\n          102.0\n        ],\n        \"semantic_type\": \"\",\n        \"description\": \"\"\n      }\n    },\n    {\n      \"column\": \"TCells\",\n      \"properties\": {\n        \"dtype\": \"number\",\n        \"std\": 34,\n        \"min\": 97,\n        \"max\": 301,\n        \"num_unique_values\": 141,\n        \"samples\": [\n          219,\n          250\n        ],\n        \"semantic_type\": \"\",\n        \"description\": \"\"\n      }\n    },\n    {\n      \"column\": \"LowDensityLipoproteins\",\n      \"properties\": {\n        \"dtype\": \"number\",\n        \"std\": 30.413080969276546,\n        \"min\": 41.6,\n        \"max\": 242.4,\n        \"num_unique_values\": 302,\n        \"samples\": [\n          162.8,\n          160.2\n        ],\n        \"semantic_type\": \"\",\n        \"description\": \"\"\n      }\n    },\n    {\n      \"column\": \"HighDensityLipoproteins\",\n      \"properties\": {\n        \"dtype\": \"number\",\n        \"std\": 12.934202154863327,\n        \"min\": 22.0,\n        \"max\": 99.0,\n        \"num_unique_values\": 63,\n        \"samples\": [\n          75.0,\n          93.0\n        ],\n        \"semantic_type\": \"\",\n        \"description\": \"\"\n      }\n    },\n    {\n      \"column\": \"ThyroidStimulatingHormone\",\n      \"properties\": {\n        \"dtype\": \"number\",\n        \"std\": 1.2904498966082774,\n        \"min\": 2.0,\n        \"max\": 9.09,\n        \"num_unique_values\": 66,\n        \"samples\": [\n          6.42,\n          3.4\n        ],\n        \"semantic_type\": \"\",\n        \"description\": \"\"\n      }\n    },\n    {\n      \"column\": \"Lamotrigine\",\n      \"properties\": {\n        \"dtype\": \"number\",\n        \"std\": 0.5223905610694907,\n        \"min\": 3.2581,\n        \"max\": 6.107,\n        \"num_unique_values\": 184,\n        \"samples\": [\n          3.8501,\n          4.4067\n        ],\n        \"semantic_type\": \"\",\n        \"description\": \"\"\n      }\n    },\n    {\n      \"column\": \"BloodSugarLevel\",\n      \"properties\": {\n        \"dtype\": \"number\",\n        \"std\": 11,\n        \"min\": 58,\n        \"max\": 124,\n        \"num_unique_values\": 56,\n        \"samples\": [\n          87,\n          68\n        ],\n        \"semantic_type\": \"\",\n        \"description\": \"\"\n      }\n    },\n    {\n      \"column\": \"DiseaseProgression\",\n      \"properties\": {\n        \"dtype\": \"number\",\n        \"std\": 0,\n        \"min\": 0,\n        \"max\": 1,\n        \"num_unique_values\": 2,\n        \"samples\": [\n          0,\n          1\n        ],\n        \"semantic_type\": \"\",\n        \"description\": \"\"\n      }\n    }\n  ]\n}"
            }
          },
          "metadata": {},
          "execution_count": 13
        }
      ]
    },
    {
      "cell_type": "code",
      "source": [
        "df=pd.read_csv('/content/diabetes.csv')\n",
        "dataset = df #.loc[2:,:]\n",
        "# dataset.info()\n",
        "# dataset[['Age', 'Duration','Job', 'SavingAccounts','CheckingAccount','CreditAmount']]=dataset[['Age', 'Duration','Job', 'SavingAccounts','CheckingAccount','CreditAmount']].astype('int')\n",
        "# dataset[['Class']]=dataset[['Class']].astype('int')"
      ],
      "metadata": {
        "id": "h54XLBv-Wsp3"
      },
      "execution_count": null,
      "outputs": []
    },
    {
      "cell_type": "code",
      "source": [
        "def preprocess(numerical,categorical):\n",
        "    numeric_transformer = Pipeline(steps=[\n",
        "        ('scaler', StandardScaler())])\n",
        "\n",
        "    categorical_transformer = Pipeline(steps=[\n",
        "        ('onehot', OneHotEncoder(handle_unknown='ignore'))])\n",
        "\n",
        "    transformations = ColumnTransformer(\n",
        "        transformers=[\n",
        "            ('num', numeric_transformer, numerical),\n",
        "            ('cat', categorical_transformer, categorical)])\n",
        "    return transformations"
      ],
      "metadata": {
        "id": "Kr9Gh3Vkzl7O"
      },
      "execution_count": null,
      "outputs": []
    },
    {
      "cell_type": "code",
      "source": [
        "y = dataset[\"DiseaseProgression\"]\n",
        "# Split data into train and test\n",
        "X = dataset.drop(\"DiseaseProgression\", axis=1)"
      ],
      "metadata": {
        "id": "Y86UREnXW4cc"
      },
      "execution_count": null,
      "outputs": []
    },
    {
      "cell_type": "code",
      "source": [
        "x_train,x_test,y_train,y_test=train_test_split(X,y,test_size=0.2,random_state=42) #rs 0,1 pinv also doesnt work"
      ],
      "metadata": {
        "id": "wjphhlqiYYwn"
      },
      "execution_count": null,
      "outputs": []
    },
    {
      "cell_type": "code",
      "source": [
        "numerical = ['Age','BMI','BloodPressure','TCells','LowDensityLipoproteins','HighDensityLipoproteins','ThyroidStimulatingHormone','Lamotrigine','BloodSugarLevel']\n",
        "categorical = x_train.columns.difference(numerical)\n",
        "proc=preprocess(numerical,categorical)\n",
        "x_train=proc.fit_transform(x_train)\n",
        "x_test=proc.transform(x_test)\n",
        "y_train=y_train.values\n",
        "y_test=y_test.values"
      ],
      "metadata": {
        "id": "27ZxWW-_zqb5"
      },
      "execution_count": null,
      "outputs": []
    },
    {
      "cell_type": "code",
      "source": [
        "clf = LogisticRegression(random_state=0).fit(x_train,y_train)"
      ],
      "metadata": {
        "id": "rFRIHNGKb1DP"
      },
      "execution_count": null,
      "outputs": []
    },
    {
      "cell_type": "code",
      "source": [
        "# clf=MLPClassifier(random_state=0,hidden_layer_sizes=(10,),activation='identity').fit(x_train,y_train)"
      ],
      "metadata": {
        "id": "NNmhEHDSYOk9"
      },
      "execution_count": null,
      "outputs": []
    },
    {
      "cell_type": "code",
      "source": [
        "def create_obj_var(x,n_ft,ft_type):\n",
        "  vars=[]\n",
        "  obj_var=[0]*n_ft\n",
        "  for i in range(n_ft):\n",
        "    # vars[i]=cp.Variable()\n",
        "    # print(ft_type[i])\n",
        "    if ft_type[i]=='ct':\n",
        "      # print(vars[i])\n",
        "      v=cp.Variable()\n",
        "      obj_var[i]=cp.norm(v-x[i],1)/4 #should add denominator\n",
        "    elif ft_type[i]=='in':\n",
        "      v=cp.Variable(integer=True)\n",
        "      obj_var[i]=cp.norm(v-x[i],1)/4\n",
        "    else:\n",
        "      v=cp.Variable(boolean=True)\n",
        "      obj_var[i]=(cp.maximum(1,(v-x[i])/1000))\n",
        "    vars.append(v)\n",
        "  # vars=cp.Variable(n_ft)\n",
        "  return vars,obj_var\n",
        "\n"
      ],
      "metadata": {
        "id": "aKA9ymbGXVtW"
      },
      "execution_count": null,
      "outputs": []
    },
    {
      "cell_type": "code",
      "source": [
        "def create_obj_var2(x,n_ft,ft_type,A,c,target):\n",
        "  vars=[]\n",
        "  nu=0.5\n",
        "  obj_var=[0]*n_ft\n",
        "  if target==0:\n",
        "    A=A[0]\n",
        "    c=c[0]\n",
        "  else:\n",
        "    A=A[1]\n",
        "    c=c[1]\n",
        "  for i in range(n_ft):\n",
        "    # vars[i]=cp.Variable()\n",
        "    # print(ft_type[i])\n",
        "    if ft_type[i]=='ct':\n",
        "      # print(vars[i])\n",
        "      v=cp.Variable()\n",
        "      obj_var[i]=cp.norm(v-x[i],1)/4 #should add denominator\n",
        "    elif ft_type[i]=='in':\n",
        "      v=cp.Variable(integer=True)\n",
        "      obj_var[i]=cp.norm(v-x[i],1)/4\n",
        "    else:\n",
        "      v=cp.Variable(boolean=True)\n",
        "      obj_var[i]=(cp.maximum(1,(v-x[i])/1000))\n",
        "\n",
        "    vars.append(v)\n",
        "\n",
        "  for i in range(n_ft):\n",
        "    obj_var[i]=obj_var[i]++nu*cp.norm(A[i,:]@(vars-c),1)\n",
        "  # vars=cp.Variable(n_ft)\n",
        "  return vars,obj_var\n",
        "\n"
      ],
      "metadata": {
        "id": "9EHik_Ged57N"
      },
      "execution_count": null,
      "outputs": []
    },
    {
      "cell_type": "code",
      "source": [
        "# vars,_=create_obj_var(x_test[0],30,['ct']*30)\n",
        "# vars"
      ],
      "metadata": {
        "id": "Gycs87ZPyN6g"
      },
      "execution_count": null,
      "outputs": []
    },
    {
      "cell_type": "code",
      "source": [
        "# p=vars@clf.coef_[0].T\n",
        "# cp.exp(p)/1+cp.exp(p)"
      ],
      "metadata": {
        "id": "TAsQ9QCo0iKI"
      },
      "execution_count": null,
      "outputs": []
    },
    {
      "cell_type": "code",
      "source": [
        "# np.logaddexp(-1000,x_test[0]@clf.coef_[0]+clf.intercept_[0])"
      ],
      "metadata": {
        "id": "m0yrk0on2rzo"
      },
      "execution_count": null,
      "outputs": []
    },
    {
      "cell_type": "code",
      "source": [
        "# p=x_test[0]@clf.coef_[0]+clf.intercept_[0]\n",
        "# (np.exp(p)/(1+np.exp(p)))\n",
        "# p"
      ],
      "metadata": {
        "id": "D7w3NZYJ3PFU"
      },
      "execution_count": null,
      "outputs": []
    },
    {
      "cell_type": "code",
      "source": [
        "def check_pred(cf,clf,target,clf_type='linear'): #assume mlp activation is identity\n",
        "  if clf_type=='linear':\n",
        "    cf=cp.hstack(cf)\n",
        "    # p=cp.log_sum_exp(cp.hstack([-1000,cf@clf.coef_[0].T+clf.intercept_[0]]))\n",
        "    pr=cp.matmul(cf,clf.coef_[0])+clf.intercept_[0]\n",
        "    # p=cp.exp(p)/(1+cp.exp(p))\n",
        "    p=cp.sum(cp.exp(cp.abs(pr - cp.log(target))))\n",
        "\n",
        "  elif clf_type=='mlp':\n",
        "    pr=cp.hstack(cf)\n",
        "    for i in range(len(clf.coefs_)):\n",
        "      pr=cp.matmul(pr,clf.coefs_[i])+clf.intercepts_[i]\n",
        "\n",
        "    p=cp.sum(cp.exp(cp.abs(pr - cp.log(target))))\n",
        "  return p,pr\n",
        "\n"
      ],
      "metadata": {
        "id": "xbZT4vMQxITx"
      },
      "execution_count": null,
      "outputs": []
    },
    {
      "cell_type": "code",
      "source": [
        "def get_anchors(x_train,y_train):\n",
        "  cls1_idx=np.where(y_train==1)\n",
        "  cls0_idx=np.where(y_train==0)\n",
        "\n",
        "  cls0=x_train[cls0_idx]\n",
        "  cls1=x_train[cls1_idx]\n",
        "\n",
        "  cls0_var=np.linalg.pinv(np.cov(cls0.T))\n",
        "  cls1_var=np.linalg.pinv(np.cov(cls1.T))\n",
        "\n",
        "  clf = NearestCentroid()\n",
        "  clf.fit(x_train,y_train)\n",
        "\n",
        "  return cls0_var,cls1_var,clf.centroids_\n",
        "\n"
      ],
      "metadata": {
        "id": "ILzJejdHPWWV"
      },
      "execution_count": null,
      "outputs": []
    },
    {
      "cell_type": "code",
      "source": [
        "# import cvxpy as cp\n",
        "# import numpy as np\n",
        "# from sklearn.linear_model import LogisticRegression\n",
        "\n",
        "# # Generate some example data\n",
        "# np.random.seed(0)  # For reproducibility\n",
        "# X = np.random.rand(100, 2)  # Example input features\n",
        "# y = np.random.randint(0, 2, 100)  # Example binary labels (0 or 1)\n",
        "\n",
        "# # Fit a logistic regression model\n",
        "# logreg_model = LogisticRegression()\n",
        "# logreg_model.fit(X, y)\n",
        "\n",
        "# # Define cvxpy variable for the input vector\n",
        "# x = cp.Variable(2)\n",
        "\n",
        "# # Compute the log odds (linear part of logistic regression)\n",
        "# log_odds = cp.matmul(x, logreg_model.coef_[0]) + logreg_model.intercept_\n",
        "\n",
        "# # Define the target probability (e.g., close to zero)\n",
        "# target_probability = 0.3  # Adjust as needed\n",
        "\n",
        "# # Define the log-sum-exp constraint indirectly\n",
        "# constraint_lhs = cp.sum(cp.exp(log_odds - cp.log(target_probability)))\n",
        "# constraint_rhs = len(X)  # Number of data points\n",
        "# constraint = constraint_lhs <= constraint_rhs\n",
        "\n",
        "# # Create the cvxpy problem with the constraint\n",
        "# problem = cp.Problem(cp.Minimize(0), [constraint])\n",
        "\n",
        "# # Solve the problem\n",
        "# problem.solve()\n",
        "\n",
        "# # Access the optimized input vector\n",
        "# optimal_vector = x.value\n",
        "\n",
        "# # Evaluate the log odds for the optimal vector\n",
        "# optimal_log_odds = np.dot(optimal_vector, logreg_model.coef_[0]) + logreg_model.intercept_\n",
        "\n",
        "# print(\"Optimal Input Vector:\", optimal_vector)\n",
        "# print(\"Log Odds for Optimal Vector:\", optimal_log_odds)\n"
      ],
      "metadata": {
        "id": "_poaMsnR5vDA"
      },
      "execution_count": null,
      "outputs": []
    },
    {
      "cell_type": "code",
      "source": [
        "# Create constraint.\n",
        "def optimize(vars,obj_var,clf,x,target):\n",
        "  # vars.append(cp.Variable())\n",
        "  # x=x.reshape(1,-1)\n",
        "\n",
        "  # p=cp.sum(vars*np.transpose(np.array(clf.coef_))) +clf.intercept_[0]\n",
        "  # print(p)\n",
        "  # p=1/1+cp.exp(-p)\n",
        "\n",
        "\n",
        "  p,pr=check_pred(vars,clf,target,'mlp')\n",
        "  constraints=[p<=1]\n",
        "  # constraints=[]\n",
        "\n",
        "  # cls0_var,cls1_var,centroids=get_anchors(x_train,y_train)\n",
        "  # c1=centroids[1]\n",
        "  # c0=centroids[0]\n",
        "  # if target==0:\n",
        "  #   # obj2=cp.matmul((cp.vstack(vars)-cp.vstack(c0)).T,cp.matmul(cls0_var,(cp.vstack(vars)-cp.vstack(c0))))\n",
        "  #   obj2=cp.norm(cls0_var@(vars-c0),1)\n",
        "  # else:\n",
        "  #   obj2=cp.norm(cls1_var@(vars-c1),1)\n",
        "  #   # obj2=cp.matmul((cp.vstack(vars)-cp.vstack(c1)).T,cp.matmul(cls1_var,(cp.vstack(vars)-cp.vstack(c1))))\n",
        "  # Form objective.\n",
        "  # objective = cp.Minimize(cp.sqrt(cp.sum_squares(cp.vstack(obj_var)))) #\n",
        "  objective = cp.Minimize(cp.sum(cp.vstack(obj_var)))\n",
        "  # objective = cp.Minimize(cp.norm(v-x,1))\n",
        "\n",
        "  # vars.value = numpy.random.randn(30)\n",
        "\n",
        "\n",
        "  # Form and solve problem.\n",
        "  prob = cp.Problem(objective,constraints)\n",
        "  prob.solve(solver=cp.MOSEK,qcp=True,verbose=True) #cp.SCS, cp.ECOS_BB is infeasible_inaccurate\n",
        "  # prob.solve(warm_start=True)\n",
        "  print(\"status: {}\".format(prob.status))\n",
        "  return vars"
      ],
      "metadata": {
        "id": "tQRLS6MFzSpC"
      },
      "execution_count": null,
      "outputs": []
    },
    {
      "cell_type": "code",
      "source": [
        "print(cp.installed_solvers())"
      ],
      "metadata": {
        "colab": {
          "base_uri": "https://localhost:8080/"
        },
        "id": "LypZnUymAUQN",
        "outputId": "6baf403e-ed2f-4d20-d97a-a6a3ecaef095"
      },
      "execution_count": null,
      "outputs": [
        {
          "output_type": "stream",
          "name": "stdout",
          "text": [
            "['CLARABEL', 'CVXOPT', 'ECOS', 'ECOS_BB', 'GLPK', 'GLPK_MI', 'MOSEK', 'OSQP', 'SCIPY', 'SCS']\n"
          ]
        }
      ]
    },
    {
      "cell_type": "code",
      "source": [
        "# cf_all=[]\n",
        "# ft_type=['ct']*30\n",
        "# n_ft=30\n",
        "# for k in range(len(x_test)):\n",
        "#   i=x_test[k]\n",
        "#   target=1-y_test[k]\n",
        "#   cls0_var,cls1_var,centroids=get_anchors(x_train,y_train)\n",
        "#   vars,obj_var=create_obj_var2(i,n_ft,ft_type,[cls0_var,cls1_var],centroids,target)\n",
        "#   # vars,obj_var=create_obj_var(i,n_ft,ft_type)\n",
        "#   cf=[]\n",
        "#   target=0.001 if target==0 else 0.999\n",
        "#   vals=optimize(vars,obj_var,clf,i,target)\n",
        "#   for j in vals:\n",
        "#     cf.append(j.value)\n",
        "#   cf_all.append(cf)"
      ],
      "metadata": {
        "id": "YR0Fe6P8Y-hf"
      },
      "execution_count": null,
      "outputs": []
    },
    {
      "cell_type": "code",
      "source": [
        "np.array(cf_all).shape, y_test.shape"
      ],
      "metadata": {
        "colab": {
          "base_uri": "https://localhost:8080/"
        },
        "id": "oY6fEkbdgXVV",
        "outputId": "d50020e3-2c92-4f96-d8c2-eae5eddbfdc5"
      },
      "execution_count": null,
      "outputs": [
        {
          "output_type": "execute_result",
          "data": {
            "text/plain": [
              "((0,), (500,))"
            ]
          },
          "metadata": {},
          "execution_count": 30
        }
      ]
    },
    {
      "cell_type": "code",
      "source": [
        "def check_validity(cf_all,y_test):\n",
        "  validity=0\n",
        "  for i in range(len(cf_all)):\n",
        "    if clf.predict(np.array(cf_all[i]).reshape(1,-1))==1-y_test[i]:\n",
        "      validity+=1\n",
        "\n",
        "  return validity/len(y_test)"
      ],
      "metadata": {
        "id": "-krP6Ft9uV8j"
      },
      "execution_count": null,
      "outputs": []
    },
    {
      "cell_type": "code",
      "source": [
        "def l1_dist(cf,x_test):\n",
        "  d=[]\n",
        "  for i in range(len(x_test)):\n",
        "    d.append(cdist([x_test[0]],[cf[i]],metric='cityblock'))\n",
        "\n",
        "  return np.mean(d)\n"
      ],
      "metadata": {
        "id": "aJrKDUxfvpMl"
      },
      "execution_count": null,
      "outputs": []
    },
    {
      "cell_type": "code",
      "source": [
        "def maha_dist(cf,x_test,cov):\n",
        "  d=[]\n",
        "\n",
        "  for i in range(len(x_test)):\n",
        "    diff=cf[i]-x_test[i]\n",
        "    d.append(np.dot(diff.T,np.dot(cov,diff)))\n",
        "  return np.mean(d)"
      ],
      "metadata": {
        "id": "5fmuCAR2ItKa"
      },
      "execution_count": null,
      "outputs": []
    },
    {
      "cell_type": "code",
      "source": [
        "dist=l1_dist(cf_all,x_test)"
      ],
      "metadata": {
        "id": "D7f6DVooC6xQ",
        "colab": {
          "base_uri": "https://localhost:8080/",
          "height": 141
        },
        "outputId": "055812b9-1f47-4187-fe1f-c30a12acfdd0"
      },
      "execution_count": null,
      "outputs": [
        {
          "output_type": "error",
          "ename": "NameError",
          "evalue": "name 'cf_all' is not defined",
          "traceback": [
            "\u001b[0;31m---------------------------------------------------------------------------\u001b[0m",
            "\u001b[0;31mNameError\u001b[0m                                 Traceback (most recent call last)",
            "\u001b[0;32m<ipython-input-15-3dddf3242cb4>\u001b[0m in \u001b[0;36m<cell line: 1>\u001b[0;34m()\u001b[0m\n\u001b[0;32m----> 1\u001b[0;31m \u001b[0mdist\u001b[0m\u001b[0;34m=\u001b[0m\u001b[0ml1_dist\u001b[0m\u001b[0;34m(\u001b[0m\u001b[0mcf_all\u001b[0m\u001b[0;34m,\u001b[0m\u001b[0mx_test\u001b[0m\u001b[0;34m)\u001b[0m\u001b[0;34m\u001b[0m\u001b[0;34m\u001b[0m\u001b[0m\n\u001b[0m",
            "\u001b[0;31mNameError\u001b[0m: name 'cf_all' is not defined"
          ]
        }
      ]
    },
    {
      "cell_type": "code",
      "source": [
        "mdist=maha_dist(cf_all,x_test,np.linalg.pinv(np.cov(x_test.T)))"
      ],
      "metadata": {
        "id": "0zX-tf3VJEN0"
      },
      "execution_count": null,
      "outputs": []
    },
    {
      "cell_type": "code",
      "source": [
        "def get_stats(x_train,ft_types):\n",
        "  '''\n",
        "  should receive the raw data\n",
        "  '''\n",
        "  n_ft= x_train.shape[1]\n",
        "  stats=[]\n",
        "  for i in range(n_ft):\n",
        "    s=[]\n",
        "    if ft_types[i]=='ct':\n",
        "      s[0]=np.mean(x_train[:,i])\n",
        "      s[1]=np.var(x_train[:,i])**0.5\n",
        "    else: #consider only cont and cat currently. Need discrete data also.\n",
        "      s[0]=np.min(x_train[:,i])\n",
        "      s[1]=np.max(x_train[:,i])\n",
        "    stats.append(s)\n",
        "\n",
        "  return stats\n"
      ],
      "metadata": {
        "id": "REmAffUpOtfU"
      },
      "execution_count": null,
      "outputs": []
    },
    {
      "cell_type": "code",
      "source": [
        "def gen_random_point(stats,ft_types):\n",
        "  randx=[]\n",
        "  for i in range(len(stats)):\n",
        "    val=0\n",
        "    if ft_types[i]=='continuous':\n",
        "      val=np.randn(stats[i][0],stats[i][1],size=None)\n",
        "    else:\n",
        "      val=np.random.randint(stats[i][0],stats[i][1])\n",
        "    randx[i]=val\n",
        "\n",
        "  return randx\n",
        "\n"
      ],
      "metadata": {
        "id": "SUqCOWC6OmRd"
      },
      "execution_count": null,
      "outputs": []
    },
    {
      "cell_type": "markdown",
      "source": [
        "5 fold"
      ],
      "metadata": {
        "id": "j6WJJ_l2PiHL"
      }
    },
    {
      "cell_type": "code",
      "source": [
        "from sklearn.model_selection import KFold\n",
        "kf = KFold(n_splits=5)\n",
        "import time"
      ],
      "metadata": {
        "id": "G6OGruNNPge-"
      },
      "execution_count": null,
      "outputs": []
    },
    {
      "cell_type": "code",
      "source": [
        "X=X.reset_index(drop=True)\n",
        "y=y.values"
      ],
      "metadata": {
        "id": "C3U84mes9vj0"
      },
      "execution_count": null,
      "outputs": []
    },
    {
      "cell_type": "code",
      "source": [
        "!mkdir /root/mosek"
      ],
      "metadata": {
        "id": "-lWHKrzGEIsW"
      },
      "execution_count": null,
      "outputs": []
    },
    {
      "cell_type": "code",
      "source": [
        "!mv /content/mosek.lic /root/mosek/\n"
      ],
      "metadata": {
        "id": "ouwFpx3EEDmD"
      },
      "execution_count": null,
      "outputs": []
    },
    {
      "cell_type": "code",
      "source": [
        "l1_dist_all=[]\n",
        "maha_dist_all=[]\n",
        "time_all=[]\n",
        "valid_all=[]\n",
        "\n",
        "for _, (train_index, test_index) in enumerate(kf.split(X)):\n",
        "  x_train,x_test=X.iloc[train_index,:],X.iloc[test_index,:]\n",
        "  y_train,y_test=y[train_index],y[test_index]\n",
        "  numerical = ['Age','Gender','BMI','BloodPressure','TCells','LowDensityLipoproteins','HighDensityLipoproteins','ThyroidStimulatingHormone','Lamotrigine','BloodSugarLevel']\n",
        "  categorical = x_train.columns.difference(numerical)\n",
        "  proc=preprocess(numerical,categorical)\n",
        "  x_train=proc.fit_transform(x_train)\n",
        "  x_test=proc.transform(x_test)\n",
        "  # y_train=y_train.values\n",
        "  # y_test=y_test.values\n",
        "  # clf = LogisticRegression(random_state=0).fit(x_train,y_train)\n",
        "  clf=MLPClassifier(random_state=0,hidden_layer_sizes=(10,3),activation='identity').fit(x_train,y_train)\n",
        "  cf_all=[]\n",
        "  ft_type=['in']+['bb']+['ct']*2+['in']+['ct']*4+['in']\n",
        "  n_ft=10\n",
        "  start=time.time()\n",
        "  for k in range(len(x_test)):\n",
        "    i=x_test[k]\n",
        "    target=1-y_test[k]\n",
        "    cls0_var,cls1_var,centroids=get_anchors(x_train,y_train)\n",
        "    vars,obj_var=create_obj_var2(i,n_ft,ft_type,[cls0_var,cls1_var],centroids,target)\n",
        "    # vars,obj_var=create_obj_var(i,n_ft,ft_type)\n",
        "    cf=[]\n",
        "    target=0.001 if target==0 else 0.999\n",
        "    vals=optimize(vars,obj_var,clf,i,target)\n",
        "    for j in vals:\n",
        "      cf.append(j.value)\n",
        "    cf_all.append(cf)\n",
        "\n",
        "  elapsed=time.time()-start\n",
        "\n",
        "\n",
        "  l1_dist_all.append(l1_dist(cf_all,x_test))\n",
        "  maha_dist_all.append(maha_dist(cf_all,x_test,np.linalg.pinv(np.cov(x_test.T))))\n",
        "  valid_all.append(check_validity(cf_all,y_test))\n",
        "  time_all.append(elapsed/len(x_test))\n"
      ],
      "metadata": {
        "id": "tSM3Z-GPSi1K"
      },
      "execution_count": null,
      "outputs": []
    },
    {
      "cell_type": "code",
      "source": [
        "print('avg l1 {}'.format(np.mean(l1_dist_all)))\n",
        "print('avg maha {}'.format(np.mean(maha_dist_all)))\n",
        "print('avg valid {}'.format(np.mean(valid_all)))\n",
        "print('avg time {}'.format(np.mean(time_all)))"
      ],
      "metadata": {
        "colab": {
          "base_uri": "https://localhost:8080/"
        },
        "id": "pqDVJLZWYuKn",
        "outputId": "61ac9579-e655-46c9-f5c2-c0e83405a0a1"
      },
      "execution_count": null,
      "outputs": [
        {
          "output_type": "stream",
          "name": "stdout",
          "text": [
            "avg l1 14.025407282420138\n",
            "avg maha 31.728058241808487\n",
            "avg valid 0.5000510725229826\n",
            "avg time 0.4603844933478167\n"
          ]
        }
      ]
    },
    {
      "cell_type": "code",
      "source": [
        "acc_all=[]\n",
        "from sklearn.metrics import accuracy_score\n",
        "for _, (train_index, test_index) in enumerate(kf.split(X)):\n",
        "  x_train,x_test=X.iloc[train_index,:],X.iloc[test_index,:]\n",
        "  y_train,y_test=y[train_index],y[test_index]\n",
        "  numerical = ['Age', 'Duration','Job', 'SavingAccounts','CheckingAccount','CreditAmount']\n",
        "  categorical = x_train.columns.difference(numerical)\n",
        "  proc=preprocess(numerical,categorical)\n",
        "  x_train=proc.fit_transform(x_train)\n",
        "  x_test=proc.transform(x_test)\n",
        "  # y_train=y_train.values\n",
        "  # y_test=y_test.values\n",
        "  # clf = LogisticRegression(random_state=0).fit(x_train,y_train)\n",
        "  clf=MLPClassifier(random_state=0,hidden_layer_sizes=(10,3),activation='identity').fit(x_train,y_train)\n",
        "  acc_all.append(accuracy_score(y_test,clf.predict(x_test)))"
      ],
      "metadata": {
        "id": "GEtlnjI_f93y"
      },
      "execution_count": null,
      "outputs": []
    },
    {
      "cell_type": "code",
      "source": [
        "print('avg acc {}'.format(np.mean(acc_all)))"
      ],
      "metadata": {
        "id": "DDChYFWvNL1A",
        "colab": {
          "base_uri": "https://localhost:8080/"
        },
        "outputId": "de78b61e-5d05-46ec-c881-64fffd05c8ab"
      },
      "execution_count": null,
      "outputs": [
        {
          "output_type": "stream",
          "name": "stdout",
          "text": [
            "avg acc 0.696\n"
          ]
        }
      ]
    },
    {
      "cell_type": "code",
      "source": [],
      "metadata": {
        "id": "CSti6AKuvM1N"
      },
      "execution_count": null,
      "outputs": []
    }
  ]
}